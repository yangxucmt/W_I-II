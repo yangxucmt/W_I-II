{
 "cells": [
  {
   "cell_type": "code",
   "execution_count": 1,
   "id": "35780714-8663-4541-a207-fb544f5e7209",
   "metadata": {},
   "outputs": [],
   "source": [
    "using BenchmarkTools, Plots, JLD2\n",
    "using ITensors, LinearAlgebra, KrylovKit\n",
    "#I have based my code on this reference: https://journals.aps.org/prb/abstract/10.1103/PhysRevB.91.165112"
   ]
  },
  {
   "cell_type": "code",
   "execution_count": 45,
   "id": "1387006b-ad44-4ea9-809c-86f5e0f177c7",
   "metadata": {},
   "outputs": [
    {
     "data": {
      "text/plain": [
       "computeWII (generic function with 2 methods)"
      ]
     },
     "execution_count": 45,
     "metadata": {},
     "output_type": "execute_result"
    }
   ],
   "source": [
    "bdag=[0 0\n",
    "    1 0]\n",
    "\n",
    "id=[1 0\n",
    "    0 1]\n",
    "\n",
    "br=kron(bdag,id)\n",
    "bc=kron(id,bdag)\n",
    "brc=kron(bdag,bdag)\n",
    "bid=kron(id,id)\n",
    "#Note that the Hilbert space for hardcore boson is (no boson,one boson).\n",
    "vecvacuum=kron([1,0],[1,0]) #no bosons r,c\n",
    "vecr=kron([0,1],[1,0])\n",
    "vecc=kron([1,0],[0,1])\n",
    "vecrc=kron([0,1],[0,1])\n",
    "\n",
    "function readout(matrix,vecleft,vecright,dim)\n",
    "basisvec=Matrix(I,dim,dim)\n",
    "    operator=zeros(ComplexF64,dim,dim)\n",
    "    for i in 1:dim\n",
    "        for j in 1:dim\n",
    "            operator[i,j]=dot(kron(vecleft,basisvec[i,:]),matrix*kron(vecright,basisvec[j,:]))\n",
    "        end\n",
    "    end\n",
    "    return operator\n",
    "end\n",
    "\n",
    "\n",
    "function computeWII(Hmpo::MPO,deltatime,sites)\n",
    "length=size(Hmpo)[1]\n",
    "sqrtdeltatime=sqrt(deltatime)\n",
    "WII_array=Array{Any}(undef,length)\n",
    "wmat=array(Hmpo[1],commonind(Hmpo[1],Hmpo[2]),prime(sites[1]),sites[1])\n",
    "WII=zeros(ComplexF64,size(wmat)[1]-1,dim(sites[1]),dim(sites[1]))\n",
    "for i=1:(size(wmat)[1]-2)\n",
    "    Cmat=wmat[i+1,:,:]\n",
    "    Dmat=wmat[1,:,:]\n",
    "    hext=sqrtdeltatime*kron(bc,Cmat)+deltatime*kron(bid,Dmat)\n",
    "    wfull=exp(hext)#Then let's read out the relevant part with at most one boson for each species, but how?\n",
    "    WII[1,:,:]=readout(wfull,vecvacuum,vecvacuum,dim(sites[1])) #D\n",
    "    WII[i+1,:,:]=readout(wfull,vecc,vecvacuum,dim(sites[1])) #C\n",
    "end\n",
    "WII_array[1]=WII\n",
    "\n",
    "for sitei=2:length-1\n",
    "    wmat=array(Hmpo[sitei],commonind(Hmpo[sitei-1],Hmpo[sitei]),commonind(Hmpo[sitei],Hmpo[sitei+1]),prime(sites[sitei]),sites[sitei])\n",
    "    WII=zeros(ComplexF64,size(wmat)[1]-1,size(wmat)[2]-1,dim(sites[sitei]),dim(sites[sitei]))\n",
    "    for i=1:(size(wmat)[1]-2)\n",
    "        for j=1:(size(wmat)[2]-2)\n",
    "            Amat=wmat[i+1,j+1,:,:]\n",
    "            Bmat=wmat[i+1,1,:,:]\n",
    "            Cmat=wmat[size(wmat)[1],j+1,:,:]\n",
    "            Dmat=wmat[size(wmat)[1],1,:,:]  \n",
    "            hext=kron(brc,Amat)+sqrtdeltatime*kron(br,Bmat)+sqrtdeltatime*kron(bc,Cmat)+deltatime*kron(bid,Dmat)\n",
    "            wfull=exp(hext)#Then let's read out the relevant part with at most one boson for each species, but how?\n",
    "            WII[1,1,:,:]=readout(wfull,vecvacuum,vecvacuum,dim(sites[sitei])) #D\n",
    "            WII[1,j+1,:,:]=readout(wfull,vecc,vecvacuum,dim(sites[sitei]))  #C\n",
    "            WII[1+i,1,:,:]=readout(wfull,vecr,vecvacuum,dim(sites[sitei])) #B\n",
    "            WII[1+i,1+j,:,:]=readout(wfull,vecrc,vecvacuum,dim(sites[sitei])) #A\n",
    "        end\n",
    "    end\n",
    "    WII_array[sitei]=WII\n",
    "end\n",
    "\n",
    "wmat=array(Hmpo[length],commonind(Hmpo[length-1],Hmpo[length]),prime(sites[length]),sites[length])\n",
    "WII=zeros(ComplexF64,size(wmat)[1]-1,dim(sites[length]),dim(sites[length]))\n",
    "for i=1:(size(wmat)[1]-2)\n",
    "    Dmat=wmat[size(wmat)[1],:,:]\n",
    "    Bmat=wmat[i+1,:,:]   \n",
    "    hext=sqrtdeltatime*kron(br,Bmat)+deltatime*kron(bid,Dmat)\n",
    "    wfull=exp(hext)#Then let's read out the relevant part with at most one boson for each species, but how?\n",
    "    WII[1,:,:]=readout(wfull,vecvacuum,vecvacuum,dim(sites[length])) #D\n",
    "    WII[1+i,:,:]=readout(wfull,vecr,vecvacuum,dim(sites[length])) #B\n",
    "end\n",
    "WII_array[length]=WII\n",
    "    \n",
    "link=Array{Index}(undef,length-1)\n",
    "for i=1:length-1\n",
    "    link[i]=Index(size(WII_array[i+1])[1],\"Link,l=$i\")\n",
    "end\n",
    "\n",
    "WIItensor=Array{ITensor}(undef,length)\n",
    "WIItensor[1]=ITensor(WII_array[1],link[1],prime(sites[1]), sites[1])\n",
    "for i=2:length-1\n",
    "    WIItensor[i]=ITensor(WII_array[i],link[i-1],link[i],prime(sites[i]), sites[i])\n",
    "end\n",
    "\n",
    "WIItensor[length]=ITensor(WII_array[length],link[length-1],prime(sites[length]), sites[length])\n",
    "\n",
    "Udt=deepcopy(Hmpo)\n",
    "for i=1:length\n",
    "    Udt[i]=WIItensor[i]\n",
    "end\n",
    "    return Udt\n",
    "end\n"
   ]
  },
  {
   "cell_type": "code",
   "execution_count": 3,
   "id": "1893fa09-b4e5-4895-81ca-62bbf668f752",
   "metadata": {},
   "outputs": [],
   "source": [
    "uc = 2; ## sites/unit cell\n",
    "L = 3*uc; ## sites in chain; need 3 unit cells to get MPO from middle unit\n",
    "sites = siteinds(\"S=1/2\", L); ## creates array of L site indices with dimensions of S=1/2\n",
    "\n",
    "## 1D Kitaev\n",
    "Jx = 2.; Jy = 1.;\n",
    "\n",
    "os = OpSum(); ## create empty operator sum to add Hamiltonian terms\n",
    "for j = 1:2:L-1;\n",
    "    ## add in Ising bond terms; factor of 4 to offset 1/2 in Sz definition\n",
    "    os += (4*Jx, \"Sx\", j, \"Sx\", j+1);\n",
    "    if j+2<=L\n",
    "        os += (4*Jy, \"Sy\", j+1, \"Sy\", j+2);\n",
    "    end\n",
    "end\n",
    "\n",
    "Ham = MPO(os, sites); ## MPO with 6 indices (2 per site + 2)"
   ]
  },
  {
   "cell_type": "code",
   "execution_count": 36,
   "id": "850067a5-1991-4701-ba0f-a08ededd1803",
   "metadata": {},
   "outputs": [
    {
     "name": "stdout",
     "output_type": "stream",
     "text": [
      "After sweep 1 energy=-6.2497669180448545  maxlinkdim=4 maxerr=2.82E-16 time=0.049\n",
      "After sweep 2 energy=-6.249770839242331  maxlinkdim=4 maxerr=3.45E-11 time=0.011\n",
      "After sweep 3 energy=-6.249770839262308  maxlinkdim=4 maxerr=3.31E-11 time=0.007\n",
      "After sweep 4 energy=-6.249770839324219  maxlinkdim=4 maxerr=3.03E-11 time=0.009\n",
      "After sweep 5 energy=-6.249770839359988  maxlinkdim=4 maxerr=2.03E-11 time=0.100\n",
      "After sweep 6 energy=-6.2497708393918625  maxlinkdim=4 maxerr=1.93E-11 time=0.007\n",
      "After sweep 7 energy=-6.249770839465076  maxlinkdim=4 maxerr=1.49E-11 time=0.005\n",
      "After sweep 8 energy=-6.249770839472555  maxlinkdim=4 maxerr=7.34E-12 time=0.006\n",
      "After sweep 9 energy=-6.249770839505781  maxlinkdim=4 maxerr=5.99E-12 time=0.005\n",
      "After sweep 10 energy=-6.249770839527902  maxlinkdim=3 maxerr=8.14E-11 time=0.004\n",
      "After sweep 11 energy=-6.249770839528116  maxlinkdim=3 maxerr=1.34E-13 time=0.005\n",
      "After sweep 12 energy=-6.2497708395283595  maxlinkdim=3 maxerr=1.16E-13 time=0.006\n",
      "After sweep 13 energy=-6.249770839528516  maxlinkdim=3 maxerr=8.23E-14 time=0.007\n",
      "After sweep 14 energy=-6.249770839528681  maxlinkdim=3 maxerr=7.14E-14 time=0.007\n",
      "After sweep 15 energy=-6.249770839528738  maxlinkdim=3 maxerr=5.18E-14 time=0.012\n",
      "After sweep 16 energy=-6.249770839528793  maxlinkdim=3 maxerr=4.67E-14 time=0.021\n",
      "After sweep 17 energy=-6.24977083952884  maxlinkdim=3 maxerr=3.88E-14 time=0.004\n",
      "After sweep 18 energy=-6.2497708395289  maxlinkdim=3 maxerr=3.48E-14 time=0.004\n",
      "After sweep 19 energy=-6.2497708395289475  maxlinkdim=3 maxerr=2.85E-14 time=0.005\n",
      "After sweep 20 energy=-6.249770839528979  maxlinkdim=3 maxerr=2.20E-14 time=0.005\n",
      "After sweep 21 energy=-6.249770839529154  maxlinkdim=2 maxerr=9.33E-11 time=0.005\n",
      "After sweep 22 energy=-6.24977083952914  maxlinkdim=2 maxerr=4.94E-17 time=0.004\n",
      "After sweep 23 energy=-6.2497708395291465  maxlinkdim=2 maxerr=1.27E-16 time=0.004\n",
      "After sweep 24 energy=-6.249770839529148  maxlinkdim=2 maxerr=1.41E-17 time=0.004\n",
      "After sweep 25 energy=-6.249770839529142  maxlinkdim=2 maxerr=6.49E-17 time=0.003\n",
      "After sweep 26 energy=-6.249770839529144  maxlinkdim=2 maxerr=9.72E-17 time=0.046\n",
      "After sweep 27 energy=-6.249770839529146  maxlinkdim=2 maxerr=2.67E-17 time=0.003\n",
      "After sweep 28 energy=-6.249770839529146  maxlinkdim=2 maxerr=9.26E-17 time=0.004\n",
      "After sweep 29 energy=-6.249770839529151  maxlinkdim=2 maxerr=9.91E-17 time=0.003\n",
      "After sweep 30 energy=-6.249770839529144  maxlinkdim=2 maxerr=1.23E-17 time=0.004\n",
      "After sweep 31 energy=-6.249770839529145  maxlinkdim=2 maxerr=2.49E-16 time=0.004\n",
      "After sweep 32 energy=-6.24977083952915  maxlinkdim=2 maxerr=1.40E-16 time=0.003\n",
      "After sweep 33 energy=-6.249770839529144  maxlinkdim=2 maxerr=1.68E-16 time=0.004\n",
      "After sweep 34 energy=-6.249770839529145  maxlinkdim=2 maxerr=1.02E-16 time=0.004\n",
      "After sweep 35 energy=-6.249770839529146  maxlinkdim=2 maxerr=1.19E-16 time=0.004\n",
      "After sweep 36 energy=-6.249770839529142  maxlinkdim=2 maxerr=1.47E-17 time=0.004\n",
      "After sweep 37 energy=-6.249770839529142  maxlinkdim=2 maxerr=1.25E-16 time=0.003\n",
      "After sweep 38 energy=-6.2497708395291465  maxlinkdim=2 maxerr=8.97E-17 time=0.003\n",
      "After sweep 39 energy=-6.2497708395291465  maxlinkdim=2 maxerr=8.92E-17 time=0.003\n",
      "After sweep 40 energy=-6.249770839529151  maxlinkdim=2 maxerr=1.25E-16 time=0.013\n"
     ]
    }
   ],
   "source": [
    "psi0=randomMPS(sites,1);\n",
    "energy,psi=dmrg(Ham, psi0; nsweeps=40, maxdim=1200, cutoff=1e-10);"
   ]
  },
  {
   "cell_type": "code",
   "execution_count": 46,
   "id": "e96a53ae-43c4-445b-85bd-316e775c05ad",
   "metadata": {},
   "outputs": [
    {
     "data": {
      "text/plain": [
       "MPO\n",
       "[1] ((dim=2|id=20|\"Link,l=1\"), (dim=2|id=913|\"S=1/2,Site,n=1\")', (dim=2|id=913|\"S=1/2,Site,n=1\"))\n",
       "[2] ((dim=2|id=20|\"Link,l=1\"), (dim=2|id=597|\"Link,l=2\"), (dim=2|id=119|\"S=1/2,Site,n=2\")', (dim=2|id=119|\"S=1/2,Site,n=2\"))\n",
       "[3] ((dim=2|id=597|\"Link,l=2\"), (dim=2|id=330|\"Link,l=3\"), (dim=2|id=698|\"S=1/2,Site,n=3\")', (dim=2|id=698|\"S=1/2,Site,n=3\"))\n",
       "[4] ((dim=2|id=330|\"Link,l=3\"), (dim=2|id=961|\"Link,l=4\"), (dim=2|id=102|\"S=1/2,Site,n=4\")', (dim=2|id=102|\"S=1/2,Site,n=4\"))\n",
       "[5] ((dim=2|id=961|\"Link,l=4\"), (dim=2|id=463|\"Link,l=5\"), (dim=2|id=100|\"S=1/2,Site,n=5\")', (dim=2|id=100|\"S=1/2,Site,n=5\"))\n",
       "[6] ((dim=2|id=463|\"Link,l=5\"), (dim=2|id=512|\"S=1/2,Site,n=6\")', (dim=2|id=512|\"S=1/2,Site,n=6\"))\n"
      ]
     },
     "execution_count": 46,
     "metadata": {},
     "output_type": "execute_result"
    }
   ],
   "source": [
    "#This is the third-order WII approximation\n",
    "thirdalpha=0.10566243\n",
    "thirdbeta=0.39433756\n",
    "delta1=thirdalpha-im*thirdbeta\n",
    "delta2=thirdbeta+im*thirdalpha\n",
    "delta3=thirdbeta-im*thirdalpha\n",
    "delta4=thirdalpha+im*thirdbeta\n",
    "\n",
    "time_evolve_mpoI=computeWII(Ham,-0.01*im*delta1,sites)\n",
    "time_evolve_mpoII=computeWII(Ham,-0.01*im*delta2,sites)\n",
    "time_evolve_mpoIII=computeWII(Ham,-0.01*im*delta3,sites)\n",
    "time_evolve_mpoIV=computeWII(Ham,-0.01*im*delta4,sites)\n",
    "\n",
    "\n",
    "#Or you can try the following parameters for a second-order WII approximation   \n",
    "\n",
    "#    seconddelta1=(1+im)/2\n",
    "#    seconddelta2=(1-im)/2\n",
    "#    WII1=computeWII(H,-deltat*im*seconddelta1,sites)\n",
    "#    WII2=computeWII(H,-deltat*im*seconddelta2,sites)"
   ]
  },
  {
   "cell_type": "code",
   "execution_count": 47,
   "id": "85e9d427-eae3-4a7c-a58a-f9c2fe11413b",
   "metadata": {},
   "outputs": [
    {
     "name": "stdout",
     "output_type": "stream",
     "text": [
      "123456789101112131415161718192021222324252627282930313233343536373839404142434445464748495051525354555657585960616263646566676869707172737475767778798081828384858687888990919293949596979899100"
     ]
    }
   ],
   "source": [
    "psievolve=deepcopy(psi)\n",
    "for i=1:100\n",
    "    print(i)\n",
    "    psievolve=apply(time_evolve_mpoIV, psievolve; cutoff=1e-12,maxdim=400)\n",
    "    psievolve=apply(time_evolve_mpoIII, psievolve; cutoff=1e-12,maxdim=400)\n",
    "    psievolve=apply(time_evolve_mpoII, psievolve; cutoff=1e-12,maxdim=400)\n",
    "    psievolve=apply(time_evolve_mpoI, psievolve; cutoff=1e-12,maxdim=400)\n",
    "end"
   ]
  },
  {
   "cell_type": "code",
   "execution_count": 48,
   "id": "80be201f-714b-400d-9800-d9f4ace317bd",
   "metadata": {},
   "outputs": [
    {
     "data": {
      "text/plain": [
       "0.9999988611118107"
      ]
     },
     "execution_count": 48,
     "metadata": {},
     "output_type": "execute_result"
    }
   ],
   "source": [
    "abs(inner(psievolve,psi)) \n",
    "#Check the ground state fidelity after time evolution. The error should be (dt)^4*1/dt=dt^3, which is indeed 10^-6 in this case"
   ]
  },
  {
   "cell_type": "code",
   "execution_count": null,
   "id": "86494a70-2104-4834-bedd-185f5616da53",
   "metadata": {},
   "outputs": [],
   "source": []
  }
 ],
 "metadata": {
  "kernelspec": {
   "display_name": "Julia 1.9.3",
   "language": "julia",
   "name": "julia-1.9"
  },
  "language_info": {
   "file_extension": ".jl",
   "mimetype": "application/julia",
   "name": "julia",
   "version": "1.9.3"
  }
 },
 "nbformat": 4,
 "nbformat_minor": 5
}
